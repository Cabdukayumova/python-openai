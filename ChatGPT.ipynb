{
 "cells": [
  {
   "cell_type": "markdown",
   "id": "1d386892",
   "metadata": {},
   "source": [
    "# Connect OpenAI to the Python with using API"
   ]
  },
  {
   "cell_type": "markdown",
   "id": "93906d99",
   "metadata": {},
   "source": [
    "First make sure that you have OpenAI special package installed. If you installe it before make sure that you have updated version of it."
   ]
  },
  {
   "cell_type": "code",
   "execution_count": 2,
   "id": "d20a60e7",
   "metadata": {},
   "outputs": [
    {
     "name": "stdout",
     "output_type": "stream",
     "text": [
      "Requirement already satisfied: openai in c:\\users\\t470\\anaconda3\\lib\\site-packages (0.27.2)\n",
      "Requirement already satisfied: requests>=2.20 in c:\\users\\t470\\anaconda3\\lib\\site-packages (from openai) (2.28.1)\n",
      "Requirement already satisfied: aiohttp in c:\\users\\t470\\anaconda3\\lib\\site-packages (from openai) (3.8.4)\n",
      "Requirement already satisfied: tqdm in c:\\users\\t470\\anaconda3\\lib\\site-packages (from openai) (4.64.1)\n",
      "Requirement already satisfied: urllib3<1.27,>=1.21.1 in c:\\users\\t470\\anaconda3\\lib\\site-packages (from requests>=2.20->openai) (1.26.11)\n",
      "Requirement already satisfied: certifi>=2017.4.17 in c:\\users\\t470\\anaconda3\\lib\\site-packages (from requests>=2.20->openai) (2022.9.14)\n",
      "Requirement already satisfied: charset-normalizer<3,>=2 in c:\\users\\t470\\anaconda3\\lib\\site-packages (from requests>=2.20->openai) (2.0.4)\n",
      "Requirement already satisfied: idna<4,>=2.5 in c:\\users\\t470\\anaconda3\\lib\\site-packages (from requests>=2.20->openai) (3.3)\n",
      "Requirement already satisfied: frozenlist>=1.1.1 in c:\\users\\t470\\anaconda3\\lib\\site-packages (from aiohttp->openai) (1.3.3)\n",
      "Requirement already satisfied: attrs>=17.3.0 in c:\\users\\t470\\anaconda3\\lib\\site-packages (from aiohttp->openai) (21.4.0)\n",
      "Requirement already satisfied: aiosignal>=1.1.2 in c:\\users\\t470\\anaconda3\\lib\\site-packages (from aiohttp->openai) (1.3.1)\n",
      "Requirement already satisfied: async-timeout<5.0,>=4.0.0a3 in c:\\users\\t470\\anaconda3\\lib\\site-packages (from aiohttp->openai) (4.0.2)\n",
      "Requirement already satisfied: yarl<2.0,>=1.0 in c:\\users\\t470\\anaconda3\\lib\\site-packages (from aiohttp->openai) (1.8.2)\n",
      "Requirement already satisfied: multidict<7.0,>=4.5 in c:\\users\\t470\\anaconda3\\lib\\site-packages (from aiohttp->openai) (6.0.4)\n",
      "Requirement already satisfied: colorama in c:\\users\\t470\\anaconda3\\lib\\site-packages (from tqdm->openai) (0.4.5)\n"
     ]
    }
   ],
   "source": [
    "!pip install openai"
   ]
  },
  {
   "cell_type": "markdown",
   "id": "e79a7065",
   "metadata": {},
   "source": [
    "Make sure that you saved your API key from OpenAI account in TXT file and you can call it from here. For more information look [here](https://platform.openai.com/account/api-keys)"
   ]
  },
  {
   "cell_type": "code",
   "execution_count": 3,
   "id": "347503ec",
   "metadata": {},
   "outputs": [],
   "source": [
    "import openai\n",
    "\n",
    "openai.api_key = open(\"key.txt\", \"r\").read().strip('\\n')"
   ]
  },
  {
   "cell_type": "markdown",
   "id": "7c53de5e",
   "metadata": {},
   "source": [
    "If you didn't receive any errors, it means you did everything right! Now time to ask first question! If you can notice that we should pass which model we are using in the call. Make sure that you use last updated version."
   ]
  },
  {
   "cell_type": "code",
   "execution_count": 4,
   "id": "8aa6db77",
   "metadata": {},
   "outputs": [
    {
     "name": "stdout",
     "output_type": "stream",
     "text": [
      "{\n",
      "  \"choices\": [\n",
      "    {\n",
      "      \"finish_reason\": \"stop\",\n",
      "      \"index\": 0,\n",
      "      \"message\": {\n",
      "        \"content\": \"\\n\\nThe closest star to the Earth after the Sun is Proxima Centauri, which is part of the Alpha Centauri star system.\",\n",
      "        \"role\": \"assistant\"\n",
      "      }\n",
      "    }\n",
      "  ],\n",
      "  \"created\": 1678912924,\n",
      "  \"id\": \"chatcmpl-6uSEedgLM9JqJn95fKWfn2bM90Dun\",\n",
      "  \"model\": \"gpt-3.5-turbo-0301\",\n",
      "  \"object\": \"chat.completion\",\n",
      "  \"usage\": {\n",
      "    \"completion_tokens\": 29,\n",
      "    \"prompt_tokens\": 18,\n",
      "    \"total_tokens\": 47\n",
      "  }\n",
      "}\n"
     ]
    }
   ],
   "source": [
    "completion = openai.ChatCompletion.create(\n",
    "    model = \"gpt-3.5-turbo\",\n",
    "    messages = [{\"role\":\"user\", \"content\": \"Which is closer star to the Earth after the Sun?\"}]\n",
    ")\n",
    "\n",
    "print(completion)"
   ]
  },
  {
   "cell_type": "code",
   "execution_count": 5,
   "id": "dd44ce0b",
   "metadata": {},
   "outputs": [
    {
     "name": "stdout",
     "output_type": "stream",
     "text": [
      "\n",
      "\n",
      "The closest star to the Earth after the Sun is Proxima Centauri, which is part of the Alpha Centauri star system.\n"
     ]
    }
   ],
   "source": [
    "reply_content = completion.choices[0].message.content\n",
    "\n",
    "print(reply_content)"
   ]
  },
  {
   "cell_type": "markdown",
   "id": "414047b3",
   "metadata": {},
   "source": [
    "Create Input option for the user"
   ]
  },
  {
   "cell_type": "code",
   "execution_count": 6,
   "id": "ce4f1b94",
   "metadata": {},
   "outputs": [
    {
     "name": "stdout",
     "output_type": "stream",
     "text": [
      ">: dfd\n",
      "User input was dfd\n"
     ]
    }
   ],
   "source": [
    "message_history = []\n",
    "user_input = input(\">: \")\n",
    "\n",
    "print(\"User input was\", user_input)"
   ]
  },
  {
   "cell_type": "markdown",
   "id": "359374b1",
   "metadata": {},
   "source": [
    "Save all message history, so your calls will have some logic and ChatGpt will try to understand what is about general conversation."
   ]
  },
  {
   "cell_type": "code",
   "execution_count": 7,
   "id": "ac6d6a3d",
   "metadata": {},
   "outputs": [],
   "source": [
    "message_history.append({\"role\": \"user\", \"content\": user_input})"
   ]
  },
  {
   "cell_type": "code",
   "execution_count": 8,
   "id": "daebeb33",
   "metadata": {},
   "outputs": [
    {
     "name": "stdout",
     "output_type": "stream",
     "text": [
      "\n",
      "\n",
      "I'm sorry, I am not sure what you are requesting. Can you please provide some additional information or context?\n"
     ]
    }
   ],
   "source": [
    "completion = openai.ChatCompletion.create(\n",
    "    model = \"gpt-3.5-turbo\",\n",
    "    messages = message_history\n",
    ")\n",
    "\n",
    "reply_content = completion.choices[0].message.content\n",
    "print(reply_content)"
   ]
  },
  {
   "cell_type": "code",
   "execution_count": 9,
   "id": "fff6e645",
   "metadata": {},
   "outputs": [],
   "source": [
    "message_history.append({\"role\": \"assistant\", \"content\": reply_content})"
   ]
  },
  {
   "cell_type": "code",
   "execution_count": 10,
   "id": "d1786424",
   "metadata": {},
   "outputs": [
    {
     "name": "stdout",
     "output_type": "stream",
     "text": [
      ">: what is the most popular flower?\n",
      "User's input was what is the most popular flower?\n",
      "\n",
      "The most popular flower is subjective and can depend on factors such as location, culture, and personal preference. However, some of the most commonly recognized and requested flowers around the world include roses, tulips, daisies, lilies, and sunflowers.\n"
     ]
    }
   ],
   "source": [
    "user_input = input(\">: \")\n",
    "print(\"User's input was\", user_input)\n",
    "print()\n",
    "message_history.append({\"role\": \"user\", \"content\": user_input})\n",
    "\n",
    "completion = openai.ChatCompletion.create(\n",
    "    model = \"gpt-3.5-turbo\",\n",
    "    messages = message_history\n",
    ")\n",
    "\n",
    "reply_content = completion.choices[0].message.content\n",
    "print(reply_content)"
   ]
  },
  {
   "cell_type": "markdown",
   "id": "51774824",
   "metadata": {},
   "source": [
    "Add final touches for the code for making sure that conversation is going on right and that's it!"
   ]
  },
  {
   "cell_type": "code",
   "execution_count": 12,
   "id": "20489c4d",
   "metadata": {},
   "outputs": [
    {
     "name": "stdout",
     "output_type": "stream",
     "text": [
      ">: how far is Saturn from the Earth?\n",
      "User's input was: how far is Saturn from the Earth?\n",
      "\n",
      "\n",
      "\n",
      "Saturn's distance from Earth varies depending on their positions in their orbits around the sun. The closest that Saturn and Earth get to each other is about 746 million miles (1.2 billion kilometers). The farthest is about 1.1 billion miles (1.8 billion kilometers). On average, Saturn is about 886 million miles (1.4 billion kilometers) away from Earth.\n",
      "\n",
      ">: How long it will take to fly to Saturn?\n",
      "User's input was: How long it will take to fly to Saturn?\n",
      "\n",
      "The time it takes to fly to Saturn would depend on the speed and type of the spacecraft being used. The fastest spacecraft to date is the Parker Solar Probe. It was launched in 2018 and can reach speeds of up to 430,000 miles per hour (700,000 kilometers per hour). If it were to fly directly to Saturn at that speed, it would take approximately 6.5 years to reach it.\n",
      "\n",
      "However, most spacecraft that have been sent to Saturn take much longer than 6.5 years to get there. The Cassini spacecraft, for example, which orbited around Saturn from 2004 to 2017, took almost 7 years to reach the planet, traveling at a speed of about 66,000 miles per hour (106,000 kilometers per hour). \n",
      "\n",
      "In general, it takes spacecraft between 6 and 7 years to reach Saturn, depending on the speed of the spacecraft and the trajectory it takes.\n",
      "\n"
     ]
    }
   ],
   "source": [
    "message_history = []\n",
    "\n",
    "def chat(inp,role = \"user\"):\n",
    "    message_history.append({\"role\": role, \"content\": inp})\n",
    "    \n",
    "    completion = openai.ChatCompletion.create(\n",
    "        model =\"gpt-3.5-turbo\",\n",
    "        messages = message_history,\n",
    "    )\n",
    "    \n",
    "    reply_content = completion.choices[0].message.content\n",
    "    print(reply_content)\n",
    "    message_history.append({\"role\": \"assistant\", \"content\": reply_content})\n",
    "    return reply_content\n",
    "\n",
    "for i in range(2):\n",
    "    user_input = input(\">: \")\n",
    "    print(\"User's input was:\", user_input)\n",
    "    print()\n",
    "    chat(user_input)\n",
    "    print()"
   ]
  },
  {
   "cell_type": "code",
   "execution_count": null,
   "id": "44ece560",
   "metadata": {},
   "outputs": [],
   "source": []
  }
 ],
 "metadata": {
  "kernelspec": {
   "display_name": "Python 3 (ipykernel)",
   "language": "python",
   "name": "python3"
  },
  "language_info": {
   "codemirror_mode": {
    "name": "ipython",
    "version": 3
   },
   "file_extension": ".py",
   "mimetype": "text/x-python",
   "name": "python",
   "nbconvert_exporter": "python",
   "pygments_lexer": "ipython3",
   "version": "3.9.13"
  }
 },
 "nbformat": 4,
 "nbformat_minor": 5
}
